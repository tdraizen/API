{
 "cells": [
  {
   "cell_type": "code",
   "execution_count": 21,
   "metadata": {},
   "outputs": [],
   "source": [
    "\n",
    "import numpy as np\n",
    "import pandas as pd\n",
    "from datetime import datetime, timedelta\n",
    "from iexfinance.stocks import get_historical_data\n",
    "from iexfinance.refdata import get_symbols\n",
    "import matplotlib.pyplot as plt\n",
    "%matplotlib inline"
   ]
  },
  {
   "cell_type": "code",
   "execution_count": 22,
   "metadata": {},
   "outputs": [],
   "source": [
    "np.random.seed(42)"
   ]
  },
  {
   "cell_type": "markdown",
   "metadata": {},
   "source": [
    "# Portfolio Planner\n",
    "\n",
    "In this activity, you will use the iexfinance api to grab historical data for a 60/40 portfolio using `SPY` to represent the stock portion and `AGG` to represent the bonds."
   ]
  },
  {
   "cell_type": "code",
   "execution_count": 23,
   "metadata": {},
   "outputs": [],
   "source": [
    "from iexfinance.stocks import get_historical_data\n",
    "import iexfinance as iex"
   ]
  },
  {
   "cell_type": "code",
   "execution_count": 24,
   "metadata": {},
   "outputs": [],
   "source": [
    "#https://finance.yahoo.com/quote/AAPL?ltr=1"
   ]
  },
  {
   "cell_type": "markdown",
   "metadata": {},
   "source": [
    "# Data Collection\n",
    "\n",
    "In this step, you will need to use the IEX api to fetch closing prices for the `SPY` and `AGG` tickers. Save the results as a pandas DataFrame"
   ]
  },
  {
   "cell_type": "code",
   "execution_count": 25,
   "metadata": {},
   "outputs": [
    {
     "data": {
      "text/html": [
       "<div>\n",
       "<style scoped>\n",
       "    .dataframe tbody tr th:only-of-type {\n",
       "        vertical-align: middle;\n",
       "    }\n",
       "\n",
       "    .dataframe tbody tr th {\n",
       "        vertical-align: top;\n",
       "    }\n",
       "\n",
       "    .dataframe thead tr th {\n",
       "        text-align: left;\n",
       "    }\n",
       "\n",
       "    .dataframe thead tr:last-of-type th {\n",
       "        text-align: right;\n",
       "    }\n",
       "</style>\n",
       "<table border=\"1\" class=\"dataframe\">\n",
       "  <thead>\n",
       "    <tr>\n",
       "      <th></th>\n",
       "      <th colspan=\"5\" halign=\"left\">SPY</th>\n",
       "      <th colspan=\"5\" halign=\"left\">AGG</th>\n",
       "    </tr>\n",
       "    <tr>\n",
       "      <th></th>\n",
       "      <th>open</th>\n",
       "      <th>high</th>\n",
       "      <th>low</th>\n",
       "      <th>close</th>\n",
       "      <th>volume</th>\n",
       "      <th>open</th>\n",
       "      <th>high</th>\n",
       "      <th>low</th>\n",
       "      <th>close</th>\n",
       "      <th>volume</th>\n",
       "    </tr>\n",
       "    <tr>\n",
       "      <th>date</th>\n",
       "      <th></th>\n",
       "      <th></th>\n",
       "      <th></th>\n",
       "      <th></th>\n",
       "      <th></th>\n",
       "      <th></th>\n",
       "      <th></th>\n",
       "      <th></th>\n",
       "      <th></th>\n",
       "      <th></th>\n",
       "    </tr>\n",
       "  </thead>\n",
       "  <tbody>\n",
       "    <tr>\n",
       "      <th>2015-01-28</th>\n",
       "      <td>204.17</td>\n",
       "      <td>204.29</td>\n",
       "      <td>199.91</td>\n",
       "      <td>200.14</td>\n",
       "      <td>168514312</td>\n",
       "      <td>111.70</td>\n",
       "      <td>112.22</td>\n",
       "      <td>111.67</td>\n",
       "      <td>112.07</td>\n",
       "      <td>1327756</td>\n",
       "    </tr>\n",
       "    <tr>\n",
       "      <th>2015-01-29</th>\n",
       "      <td>200.38</td>\n",
       "      <td>202.30</td>\n",
       "      <td>198.68</td>\n",
       "      <td>201.99</td>\n",
       "      <td>173585424</td>\n",
       "      <td>111.93</td>\n",
       "      <td>112.06</td>\n",
       "      <td>111.82</td>\n",
       "      <td>111.98</td>\n",
       "      <td>1752591</td>\n",
       "    </tr>\n",
       "    <tr>\n",
       "      <th>2015-01-30</th>\n",
       "      <td>200.57</td>\n",
       "      <td>202.17</td>\n",
       "      <td>199.13</td>\n",
       "      <td>199.45</td>\n",
       "      <td>197729724</td>\n",
       "      <td>112.35</td>\n",
       "      <td>112.52</td>\n",
       "      <td>112.24</td>\n",
       "      <td>112.38</td>\n",
       "      <td>6252828</td>\n",
       "    </tr>\n",
       "    <tr>\n",
       "      <th>2015-02-02</th>\n",
       "      <td>200.05</td>\n",
       "      <td>202.03</td>\n",
       "      <td>197.86</td>\n",
       "      <td>201.92</td>\n",
       "      <td>163106969</td>\n",
       "      <td>112.06</td>\n",
       "      <td>112.23</td>\n",
       "      <td>112.00</td>\n",
       "      <td>112.20</td>\n",
       "      <td>2792120</td>\n",
       "    </tr>\n",
       "    <tr>\n",
       "      <th>2015-02-03</th>\n",
       "      <td>203.00</td>\n",
       "      <td>204.85</td>\n",
       "      <td>202.55</td>\n",
       "      <td>204.84</td>\n",
       "      <td>124212881</td>\n",
       "      <td>112.10</td>\n",
       "      <td>112.10</td>\n",
       "      <td>111.76</td>\n",
       "      <td>111.77</td>\n",
       "      <td>1815375</td>\n",
       "    </tr>\n",
       "  </tbody>\n",
       "</table>\n",
       "</div>"
      ],
      "text/plain": [
       "               SPY                                        AGG                  \\\n",
       "              open    high     low   close     volume    open    high     low   \n",
       "date                                                                            \n",
       "2015-01-28  204.17  204.29  199.91  200.14  168514312  111.70  112.22  111.67   \n",
       "2015-01-29  200.38  202.30  198.68  201.99  173585424  111.93  112.06  111.82   \n",
       "2015-01-30  200.57  202.17  199.13  199.45  197729724  112.35  112.52  112.24   \n",
       "2015-02-02  200.05  202.03  197.86  201.92  163106969  112.06  112.23  112.00   \n",
       "2015-02-03  203.00  204.85  202.55  204.84  124212881  112.10  112.10  111.76   \n",
       "\n",
       "                             \n",
       "             close   volume  \n",
       "date                         \n",
       "2015-01-28  112.07  1327756  \n",
       "2015-01-29  111.98  1752591  \n",
       "2015-01-30  112.38  6252828  \n",
       "2015-02-02  112.20  2792120  \n",
       "2015-02-03  111.77  1815375  "
      ]
     },
     "execution_count": 25,
     "metadata": {},
     "output_type": "execute_result"
    }
   ],
   "source": [
    "tickers=pd.DataFrame(get_symbols())\n",
    "tickers.head()\n",
    "\n",
    "tickers = [\"SPY\", \"AGG\"]\n",
    "end_date = datetime.now()\n",
    "start_date = end_date + timedelta(-1825)\n",
    "port_planner_df = get_historical_data(tickers, start_date, end_date,  output_format='pandas')\n",
    "port_planner_df.head()\n",
    "#port_planner_df = pd.DataFrame('API_Port_Planner_Homework.pickle')\n",
    "#port_planner_df.to_pickle('API_Port_Planner_Homework.pickle')\n",
    "#port_planner_df.read_pickle('API_Port_Planner_Homework.pickle')"
   ]
  },
  {
   "cell_type": "code",
   "execution_count": 26,
   "metadata": {},
   "outputs": [
    {
     "data": {
      "text/html": [
       "<div>\n",
       "<style scoped>\n",
       "    .dataframe tbody tr th:only-of-type {\n",
       "        vertical-align: middle;\n",
       "    }\n",
       "\n",
       "    .dataframe tbody tr th {\n",
       "        vertical-align: top;\n",
       "    }\n",
       "\n",
       "    .dataframe thead tr th {\n",
       "        text-align: left;\n",
       "    }\n",
       "\n",
       "    .dataframe thead tr:last-of-type th {\n",
       "        text-align: right;\n",
       "    }\n",
       "</style>\n",
       "<table border=\"1\" class=\"dataframe\">\n",
       "  <thead>\n",
       "    <tr>\n",
       "      <th></th>\n",
       "      <th>SPY</th>\n",
       "      <th>AGG</th>\n",
       "    </tr>\n",
       "    <tr>\n",
       "      <th></th>\n",
       "      <th>close</th>\n",
       "      <th>close</th>\n",
       "    </tr>\n",
       "    <tr>\n",
       "      <th>date</th>\n",
       "      <th></th>\n",
       "      <th></th>\n",
       "    </tr>\n",
       "  </thead>\n",
       "  <tbody>\n",
       "    <tr>\n",
       "      <th>2015-01-28</th>\n",
       "      <td>200.14</td>\n",
       "      <td>112.07</td>\n",
       "    </tr>\n",
       "    <tr>\n",
       "      <th>2015-01-29</th>\n",
       "      <td>201.99</td>\n",
       "      <td>111.98</td>\n",
       "    </tr>\n",
       "    <tr>\n",
       "      <th>2015-01-30</th>\n",
       "      <td>199.45</td>\n",
       "      <td>112.38</td>\n",
       "    </tr>\n",
       "    <tr>\n",
       "      <th>2015-02-02</th>\n",
       "      <td>201.92</td>\n",
       "      <td>112.20</td>\n",
       "    </tr>\n",
       "    <tr>\n",
       "      <th>2015-02-03</th>\n",
       "      <td>204.84</td>\n",
       "      <td>111.77</td>\n",
       "    </tr>\n",
       "  </tbody>\n",
       "</table>\n",
       "</div>"
      ],
      "text/plain": [
       "               SPY     AGG\n",
       "             close   close\n",
       "date                      \n",
       "2015-01-28  200.14  112.07\n",
       "2015-01-29  201.99  111.98\n",
       "2015-01-30  199.45  112.38\n",
       "2015-02-02  201.92  112.20\n",
       "2015-02-03  204.84  111.77"
      ]
     },
     "execution_count": 26,
     "metadata": {},
     "output_type": "execute_result"
    }
   ],
   "source": [
    "#Drop extraneous columns\n",
    "port_planner_df.drop(columns=['open', 'low', 'volume', 'high'], level=1, inplace=True)\n",
    "port_planner_df.head()"
   ]
  },
  {
   "cell_type": "markdown",
   "metadata": {},
   "source": [
    "# Monte Carlo Simulation\n",
    "\n",
    "In this step, you will run Monte Carlo Simulations for your portfolio to model portfolio performance at different retirement ages. \n",
    "\n",
    "Complete the following steps:\n",
    "1. Calculate the daily returns for the SPY and AGG closing prices.\n",
    "2. Calculate volatility for both the SPY and AGG closing prices.\n",
    "3. Find the last day's closing price for both stocks and save those as variables.\n",
    "4. Run a Monte Carlo Simulation of at least 500 iterations and generate at least 30 years of closing prices\n",
    "\n",
    "### HINTS:\n",
    "There are 252 trading days per year, so the number of records to generate for each Monte Carlo run will be 252 days * 30 years"
   ]
  },
  {
   "cell_type": "raw",
   "metadata": {},
   "source": [
    "# Calculate the daily roi for the stocks"
   ]
  },
  {
   "cell_type": "code",
   "execution_count": 27,
   "metadata": {},
   "outputs": [
    {
     "data": {
      "text/html": [
       "<div>\n",
       "<style scoped>\n",
       "    .dataframe tbody tr th:only-of-type {\n",
       "        vertical-align: middle;\n",
       "    }\n",
       "\n",
       "    .dataframe tbody tr th {\n",
       "        vertical-align: top;\n",
       "    }\n",
       "\n",
       "    .dataframe thead tr th {\n",
       "        text-align: left;\n",
       "    }\n",
       "\n",
       "    .dataframe thead tr:last-of-type th {\n",
       "        text-align: right;\n",
       "    }\n",
       "</style>\n",
       "<table border=\"1\" class=\"dataframe\">\n",
       "  <thead>\n",
       "    <tr>\n",
       "      <th></th>\n",
       "      <th>SPY</th>\n",
       "      <th>AGG</th>\n",
       "    </tr>\n",
       "    <tr>\n",
       "      <th></th>\n",
       "      <th>close</th>\n",
       "      <th>close</th>\n",
       "    </tr>\n",
       "    <tr>\n",
       "      <th>date</th>\n",
       "      <th></th>\n",
       "      <th></th>\n",
       "    </tr>\n",
       "  </thead>\n",
       "  <tbody>\n",
       "    <tr>\n",
       "      <th>2015-01-28</th>\n",
       "      <td>NaN</td>\n",
       "      <td>NaN</td>\n",
       "    </tr>\n",
       "    <tr>\n",
       "      <th>2015-01-29</th>\n",
       "      <td>0.009244</td>\n",
       "      <td>-0.000803</td>\n",
       "    </tr>\n",
       "    <tr>\n",
       "      <th>2015-01-30</th>\n",
       "      <td>-0.012575</td>\n",
       "      <td>0.003572</td>\n",
       "    </tr>\n",
       "    <tr>\n",
       "      <th>2015-02-02</th>\n",
       "      <td>0.012384</td>\n",
       "      <td>-0.001602</td>\n",
       "    </tr>\n",
       "    <tr>\n",
       "      <th>2015-02-03</th>\n",
       "      <td>0.014461</td>\n",
       "      <td>-0.003832</td>\n",
       "    </tr>\n",
       "  </tbody>\n",
       "</table>\n",
       "</div>"
      ],
      "text/plain": [
       "                 SPY       AGG\n",
       "               close     close\n",
       "date                          \n",
       "2015-01-28       NaN       NaN\n",
       "2015-01-29  0.009244 -0.000803\n",
       "2015-01-30 -0.012575  0.003572\n",
       "2015-02-02  0.012384 -0.001602\n",
       "2015-02-03  0.014461 -0.003832"
      ]
     },
     "execution_count": 27,
     "metadata": {},
     "output_type": "execute_result"
    }
   ],
   "source": [
    "daily_returns_df = port_planner_df.pct_change()\n",
    "daily_returns_df.head()"
   ]
  },
  {
   "cell_type": "code",
   "execution_count": 28,
   "metadata": {},
   "outputs": [],
   "source": [
    "# Cumulative Returns for each name\n",
    "#cumulative_returns_df = (1 + daily_returns_df.fillna(0)).cumprod()\n",
    "#cumulative_returns_df.head()"
   ]
  },
  {
   "cell_type": "code",
   "execution_count": 29,
   "metadata": {},
   "outputs": [
    {
     "data": {
      "text/plain": [
       "0.00043094713049992217"
      ]
     },
     "execution_count": 29,
     "metadata": {},
     "output_type": "execute_result"
    }
   ],
   "source": [
    "# Calculate the mean of average daily returns\n",
    "avg_daily_return_spy = daily_returns_df.mean()['SPY']['close']\n",
    "avg_daily_return_agg = daily_returns_df.mean()['AGG']['close']\n",
    "avg_daily_return_spy"
   ]
  },
  {
   "cell_type": "code",
   "execution_count": 30,
   "metadata": {},
   "outputs": [
    {
     "data": {
      "text/plain": [
       "0.008441576305422268"
      ]
     },
     "execution_count": 30,
     "metadata": {},
     "output_type": "execute_result"
    }
   ],
   "source": [
    "# Calculate STD Deviations\n",
    "std_dev_daily_return_spy = daily_returns_df.std()['SPY']['close']\n",
    "std_dev_daily_return_agg = daily_returns_df.std()['AGG']['close']\n",
    "std_dev_daily_return_spy"
   ]
  },
  {
   "cell_type": "code",
   "execution_count": 31,
   "metadata": {},
   "outputs": [
    {
     "data": {
      "text/html": [
       "<div>\n",
       "<style scoped>\n",
       "    .dataframe tbody tr th:only-of-type {\n",
       "        vertical-align: middle;\n",
       "    }\n",
       "\n",
       "    .dataframe tbody tr th {\n",
       "        vertical-align: top;\n",
       "    }\n",
       "\n",
       "    .dataframe thead th {\n",
       "        text-align: right;\n",
       "    }\n",
       "</style>\n",
       "<table border=\"1\" class=\"dataframe\">\n",
       "  <thead>\n",
       "    <tr style=\"text-align: right;\">\n",
       "      <th></th>\n",
       "      <th>0</th>\n",
       "      <th>1</th>\n",
       "      <th>2</th>\n",
       "      <th>3</th>\n",
       "      <th>4</th>\n",
       "      <th>5</th>\n",
       "      <th>6</th>\n",
       "      <th>7</th>\n",
       "      <th>8</th>\n",
       "      <th>9</th>\n",
       "      <th>...</th>\n",
       "      <th>490</th>\n",
       "      <th>491</th>\n",
       "      <th>492</th>\n",
       "      <th>493</th>\n",
       "      <th>494</th>\n",
       "      <th>495</th>\n",
       "      <th>496</th>\n",
       "      <th>497</th>\n",
       "      <th>498</th>\n",
       "      <th>499</th>\n",
       "    </tr>\n",
       "  </thead>\n",
       "  <tbody>\n",
       "    <tr>\n",
       "      <th>0</th>\n",
       "      <td>1.000000</td>\n",
       "      <td>1.000000</td>\n",
       "      <td>1.000000</td>\n",
       "      <td>1.000000</td>\n",
       "      <td>1.000000</td>\n",
       "      <td>1.000000</td>\n",
       "      <td>1.000000</td>\n",
       "      <td>1.000000</td>\n",
       "      <td>1.000000</td>\n",
       "      <td>1.000000</td>\n",
       "      <td>...</td>\n",
       "      <td>1.000000</td>\n",
       "      <td>1.000000</td>\n",
       "      <td>1.000000</td>\n",
       "      <td>1.000000</td>\n",
       "      <td>1.000000</td>\n",
       "      <td>1.000000</td>\n",
       "      <td>1.000000</td>\n",
       "      <td>1.000000</td>\n",
       "      <td>1.000000</td>\n",
       "      <td>1.000000</td>\n",
       "    </tr>\n",
       "    <tr>\n",
       "      <th>1</th>\n",
       "      <td>1.002668</td>\n",
       "      <td>0.995166</td>\n",
       "      <td>0.992591</td>\n",
       "      <td>0.999226</td>\n",
       "      <td>1.005415</td>\n",
       "      <td>1.007144</td>\n",
       "      <td>1.009749</td>\n",
       "      <td>0.995511</td>\n",
       "      <td>1.001614</td>\n",
       "      <td>0.998900</td>\n",
       "      <td>...</td>\n",
       "      <td>1.001926</td>\n",
       "      <td>0.995294</td>\n",
       "      <td>1.007389</td>\n",
       "      <td>0.999632</td>\n",
       "      <td>0.997306</td>\n",
       "      <td>1.002920</td>\n",
       "      <td>0.995623</td>\n",
       "      <td>0.993031</td>\n",
       "      <td>1.003023</td>\n",
       "      <td>0.996967</td>\n",
       "    </tr>\n",
       "    <tr>\n",
       "      <th>2</th>\n",
       "      <td>1.007459</td>\n",
       "      <td>0.998923</td>\n",
       "      <td>0.991444</td>\n",
       "      <td>0.998047</td>\n",
       "      <td>1.008647</td>\n",
       "      <td>0.997176</td>\n",
       "      <td>1.003599</td>\n",
       "      <td>0.984046</td>\n",
       "      <td>1.000474</td>\n",
       "      <td>1.007640</td>\n",
       "      <td>...</td>\n",
       "      <td>1.003795</td>\n",
       "      <td>1.002780</td>\n",
       "      <td>1.010372</td>\n",
       "      <td>1.001027</td>\n",
       "      <td>0.998505</td>\n",
       "      <td>0.999486</td>\n",
       "      <td>0.994782</td>\n",
       "      <td>0.993255</td>\n",
       "      <td>1.002685</td>\n",
       "      <td>1.000607</td>\n",
       "    </tr>\n",
       "    <tr>\n",
       "      <th>3</th>\n",
       "      <td>1.006339</td>\n",
       "      <td>0.998696</td>\n",
       "      <td>0.994909</td>\n",
       "      <td>0.991556</td>\n",
       "      <td>1.007698</td>\n",
       "      <td>1.000301</td>\n",
       "      <td>1.007370</td>\n",
       "      <td>0.977505</td>\n",
       "      <td>0.999957</td>\n",
       "      <td>1.015934</td>\n",
       "      <td>...</td>\n",
       "      <td>1.003527</td>\n",
       "      <td>1.005521</td>\n",
       "      <td>1.015057</td>\n",
       "      <td>1.002244</td>\n",
       "      <td>0.991282</td>\n",
       "      <td>0.997823</td>\n",
       "      <td>0.998363</td>\n",
       "      <td>0.999079</td>\n",
       "      <td>1.005948</td>\n",
       "      <td>0.998985</td>\n",
       "    </tr>\n",
       "    <tr>\n",
       "      <th>4</th>\n",
       "      <td>1.015280</td>\n",
       "      <td>1.001459</td>\n",
       "      <td>0.990730</td>\n",
       "      <td>0.997381</td>\n",
       "      <td>1.008901</td>\n",
       "      <td>0.994623</td>\n",
       "      <td>1.005671</td>\n",
       "      <td>0.974402</td>\n",
       "      <td>1.008058</td>\n",
       "      <td>1.004732</td>\n",
       "      <td>...</td>\n",
       "      <td>1.005315</td>\n",
       "      <td>1.003261</td>\n",
       "      <td>1.013235</td>\n",
       "      <td>1.007590</td>\n",
       "      <td>0.997543</td>\n",
       "      <td>0.994357</td>\n",
       "      <td>0.992135</td>\n",
       "      <td>0.999492</td>\n",
       "      <td>1.010551</td>\n",
       "      <td>1.002427</td>\n",
       "    </tr>\n",
       "  </tbody>\n",
       "</table>\n",
       "<p>5 rows × 500 columns</p>\n",
       "</div>"
      ],
      "text/plain": [
       "        0         1         2         3         4         5         6    \\\n",
       "0  1.000000  1.000000  1.000000  1.000000  1.000000  1.000000  1.000000   \n",
       "1  1.002668  0.995166  0.992591  0.999226  1.005415  1.007144  1.009749   \n",
       "2  1.007459  0.998923  0.991444  0.998047  1.008647  0.997176  1.003599   \n",
       "3  1.006339  0.998696  0.994909  0.991556  1.007698  1.000301  1.007370   \n",
       "4  1.015280  1.001459  0.990730  0.997381  1.008901  0.994623  1.005671   \n",
       "\n",
       "        7         8         9    ...       490       491       492       493  \\\n",
       "0  1.000000  1.000000  1.000000  ...  1.000000  1.000000  1.000000  1.000000   \n",
       "1  0.995511  1.001614  0.998900  ...  1.001926  0.995294  1.007389  0.999632   \n",
       "2  0.984046  1.000474  1.007640  ...  1.003795  1.002780  1.010372  1.001027   \n",
       "3  0.977505  0.999957  1.015934  ...  1.003527  1.005521  1.015057  1.002244   \n",
       "4  0.974402  1.008058  1.004732  ...  1.005315  1.003261  1.013235  1.007590   \n",
       "\n",
       "        494       495       496       497       498       499  \n",
       "0  1.000000  1.000000  1.000000  1.000000  1.000000  1.000000  \n",
       "1  0.997306  1.002920  0.995623  0.993031  1.003023  0.996967  \n",
       "2  0.998505  0.999486  0.994782  0.993255  1.002685  1.000607  \n",
       "3  0.991282  0.997823  0.998363  0.999079  1.005948  0.998985  \n",
       "4  0.997543  0.994357  0.992135  0.999492  1.010551  1.002427  \n",
       "\n",
       "[5 rows x 500 columns]"
      ]
     },
     "execution_count": 31,
     "metadata": {},
     "output_type": "execute_result"
    }
   ],
   "source": [
    "# Set number of simulations and trading days\n",
    "num_simulations = 500\n",
    "num_trading_days = 252 * 30\n",
    "\n",
    "# Set last closing prices of `SPY` and `AGG`\n",
    "spy_last_price = port_planner_df['SPY']['close'][-1]\n",
    "agg_last_price = port_planner_df['AGG']['close'][-1]\n",
    "\n",
    "# Initialize empty DataFrame to hold simulated prices for each simulation\n",
    "simulated_price_df = pd.DataFrame()\n",
    "portfolio_cumulative_returns = pd.DataFrame()\n",
    "\n",
    "# Run the simulation of projecting stock prices for the next trading year, `500` times\n",
    "for n in range(num_simulations):\n",
    "\n",
    "    # Initialize the simulated prices list with the last closing price of `SPY` and `AGG`\n",
    "    simulated_spy_prices = [spy_last_price]\n",
    "    simulated_agg_prices = [agg_last_price]\n",
    "    \n",
    "    # Simulate the returns for 252 * 3 days\n",
    "    for i in range(num_trading_days):\n",
    "        \n",
    "        # Calculate the simulated price using the last price within the list\n",
    "        simulated_spy_price = simulated_spy_prices[-1] * (1 + np.random.normal(avg_daily_return_spy, std_dev_daily_return_spy))\n",
    "        simulated_agg_price = simulated_agg_prices[-1] * (1 + np.random.normal(avg_daily_return_agg, std_dev_daily_return_agg))\n",
    "        \n",
    "        # Append the simulated price to the list\n",
    "        simulated_spy_prices.append(simulated_spy_price)\n",
    "        simulated_agg_prices.append(simulated_agg_price)\n",
    "    \n",
    "    # Append a simulated prices of each simulation to DataFrame\n",
    "    simulated_price_df[\"SPY prices\"] = pd.Series(simulated_spy_prices)\n",
    "    simulated_price_df[\"AGG prices\"] = pd.Series(simulated_agg_prices)\n",
    "    \n",
    "    # Calculate the daily returns of simulated prices\n",
    "    simulated_daily_returns = simulated_price_df.pct_change()\n",
    "    \n",
    "    # Set the portfolio weights (60% SPY; 40% AGG)\n",
    "    weights = [0.60, 0.40]\n",
    "\n",
    "    # Use the `dot` function with the weights to multiply weights with each column's simulated daily returns\n",
    "    portfolio_daily_returns = simulated_daily_returns.dot(weights)\n",
    "    \n",
    "    # Calculate the normalized, cumulative return series\n",
    "    portfolio_cumulative_returns[n] = (1 + portfolio_daily_returns.fillna(0)).cumprod()\n",
    "\n",
    "# Print records from the DataFrame\n",
    "portfolio_cumulative_returns.head()"
   ]
  },
  {
   "cell_type": "code",
   "execution_count": 32,
   "metadata": {},
   "outputs": [
    {
     "data": {
      "text/plain": [
       "<matplotlib.axes._subplots.AxesSubplot at 0x1360befd0>"
      ]
     },
     "execution_count": 32,
     "metadata": {},
     "output_type": "execute_result"
    },
    {
     "data": {
      "image/png": "[encoded data removed]",
      "text/plain": [
       "<Figure size 432x288 with 1 Axes>"
      ]
     },
     "metadata": {
      "needs_background": "light"
     },
     "output_type": "display_data"
    }
   ],
   "source": [
    "# Plot Graphs\n",
    "plot_title = f\"{n+1} Simulations of Cumulative Portfolio Return Trajectories Over the Next 30 Years\"\n",
    "portfolio_cumulative_returns.plot(legend=None, title=plot_title)"
   ]
  },
  {
   "cell_type": "code",
   "execution_count": 33,
   "metadata": {},
   "outputs": [
    {
     "data": {
      "text/plain": [
       "0    7.784752\n",
       "1    6.338457\n",
       "2    8.898183\n",
       "3    9.442781\n",
       "4    8.476120\n",
       "Name: 7560, dtype: float64"
      ]
     },
     "execution_count": 33,
     "metadata": {},
     "output_type": "execute_result"
    }
   ],
   "source": [
    "# Select the last row for the cumulative returns (cumulative returns at 30 years)\n",
    "ending_cumulative_returns = portfolio_cumulative_returns.iloc[-1, :]\n",
    "ending_cumulative_returns.head()"
   ]
  },
  {
   "cell_type": "code",
   "execution_count": 34,
   "metadata": {},
   "outputs": [
    {
     "data": {
      "text/plain": [
       "(5.776, 7.93]       0.308\n",
       "(3.623, 5.776]      0.284\n",
       "(7.93, 10.083]      0.178\n",
       "(1.447, 3.623]      0.082\n",
       "(10.083, 12.236]    0.068\n",
       "(12.236, 14.39]     0.038\n",
       "(14.39, 16.543]     0.028\n",
       "(16.543, 18.697]    0.012\n",
       "(20.85, 23.004]     0.002\n",
       "(18.697, 20.85]     0.000\n",
       "Name: 7560, dtype: float64"
      ]
     },
     "execution_count": 34,
     "metadata": {},
     "output_type": "execute_result"
    }
   ],
   "source": [
    "# Use the `value_counts` function and the `len` function to calculate the probabilities of cumulative return ranges\n",
    "ending_cumulative_returns.value_counts(bins=10) / len(ending_cumulative_returns)"
   ]
  },
  {
   "cell_type": "code",
   "execution_count": 35,
   "metadata": {},
   "outputs": [
    {
     "data": {
      "text/plain": [
       "0.05     3.062832\n",
       "0.95    13.476055\n",
       "Name: 7560, dtype: float64"
      ]
     },
     "execution_count": 35,
     "metadata": {},
     "output_type": "execute_result"
    }
   ],
   "source": [
    "# Use the `quantile` function to calculate the 95% confidence interval for simulated ending prices\n",
    "confidence_interval = ending_cumulative_returns.quantile(q=[0.05, 0.95])\n",
    "confidence_interval"
   ]
  },
  {
   "cell_type": "code",
   "execution_count": 36,
   "metadata": {},
   "outputs": [
    {
     "data": {
      "text/plain": [
       "<matplotlib.axes._subplots.AxesSubplot at 0x159c1f6d0>"
      ]
     },
     "execution_count": 36,
     "metadata": {},
     "output_type": "execute_result"
    },
    {
     "data": {
      "image/png": "[encoded data removed]",
      "text/plain": [
       "<Figure size 432x288 with 1 Axes>"
      ]
     },
     "metadata": {
      "needs_background": "light"
     },
     "output_type": "display_data"
    }
   ],
   "source": [
    "# Display the 95% confidence interval for the ending returns\n",
    "ending_cumulative_returns.plot(kind='hist', bins=10)"
   ]
  },
  {
   "cell_type": "code",
   "execution_count": 37,
   "metadata": {},
   "outputs": [
    {
     "data": {
      "text/plain": [
       "<matplotlib.lines.Line2D at 0x15a582910>"
      ]
     },
     "execution_count": 37,
     "metadata": {},
     "output_type": "execute_result"
    },
    {
     "data": {
      "image/png": "[encoded data removed]",
      "text/plain": [
       "<Figure size 432x288 with 1 Axes>"
      ]
     },
     "metadata": {
      "needs_background": "light"
     },
     "output_type": "display_data"
    }
   ],
   "source": [
    " # Use the `plot` function to create a probability distribution histogram of simulated ending prices\n",
    "# with markings for a 95% confidence interval\n",
    "plt.figure();\n",
    "ending_cumulative_returns.plot(kind='hist', density=True, bins=10)\n",
    "plt.axvline(confidence_interval.iloc[0], color='r')\n",
    "plt.axvline(confidence_interval.iloc[1], color='r')"
   ]
  },
  {
   "cell_type": "code",
   "execution_count": 38,
   "metadata": {},
   "outputs": [
    {
     "data": {
      "text/plain": [
       "<matplotlib.axes._subplots.AxesSubplot at 0x15a728f50>"
      ]
     },
     "execution_count": 38,
     "metadata": {},
     "output_type": "execute_result"
    },
    {
     "data": {
      "image/png": "[encoded data removed]",
      "text/plain": [
       "<Figure size 432x288 with 1 Axes>"
      ]
     },
     "metadata": {
      "needs_background": "light"
     },
     "output_type": "display_data"
    }
   ],
   "source": [
    "# Visualize the distribution of the ending returns\n",
    "plot_title = f\"{n+1} Simulations of Cumulative Portfolio Return Trajectories Over the Next 252 * 30 Trading Days\"\n",
    "portfolio_cumulative_returns.plot(legend=None, title=plot_title)"
   ]
  },
  {
   "cell_type": "code",
   "execution_count": 39,
   "metadata": {},
   "outputs": [
    {
     "data": {
      "text/html": [
       "<div>\n",
       "<style scoped>\n",
       "    .dataframe tbody tr th:only-of-type {\n",
       "        vertical-align: middle;\n",
       "    }\n",
       "\n",
       "    .dataframe tbody tr th {\n",
       "        vertical-align: top;\n",
       "    }\n",
       "\n",
       "    .dataframe thead th {\n",
       "        text-align: right;\n",
       "    }\n",
       "</style>\n",
       "<table border=\"1\" class=\"dataframe\">\n",
       "  <thead>\n",
       "    <tr style=\"text-align: right;\">\n",
       "      <th></th>\n",
       "      <th>0</th>\n",
       "      <th>1</th>\n",
       "      <th>2</th>\n",
       "      <th>3</th>\n",
       "      <th>4</th>\n",
       "      <th>5</th>\n",
       "      <th>6</th>\n",
       "      <th>7</th>\n",
       "      <th>8</th>\n",
       "      <th>9</th>\n",
       "      <th>...</th>\n",
       "      <th>490</th>\n",
       "      <th>491</th>\n",
       "      <th>492</th>\n",
       "      <th>493</th>\n",
       "      <th>494</th>\n",
       "      <th>495</th>\n",
       "      <th>496</th>\n",
       "      <th>497</th>\n",
       "      <th>498</th>\n",
       "      <th>499</th>\n",
       "    </tr>\n",
       "  </thead>\n",
       "  <tbody>\n",
       "    <tr>\n",
       "      <th>0</th>\n",
       "      <td>1.000000</td>\n",
       "      <td>1.000000</td>\n",
       "      <td>1.000000</td>\n",
       "      <td>1.000000</td>\n",
       "      <td>1.000000</td>\n",
       "      <td>1.000000</td>\n",
       "      <td>1.000000</td>\n",
       "      <td>1.000000</td>\n",
       "      <td>1.000000</td>\n",
       "      <td>1.000000</td>\n",
       "      <td>...</td>\n",
       "      <td>1.000000</td>\n",
       "      <td>1.000000</td>\n",
       "      <td>1.000000</td>\n",
       "      <td>1.000000</td>\n",
       "      <td>1.000000</td>\n",
       "      <td>1.000000</td>\n",
       "      <td>1.000000</td>\n",
       "      <td>1.000000</td>\n",
       "      <td>1.000000</td>\n",
       "      <td>1.000000</td>\n",
       "    </tr>\n",
       "    <tr>\n",
       "      <th>1</th>\n",
       "      <td>1.001293</td>\n",
       "      <td>0.988967</td>\n",
       "      <td>1.000726</td>\n",
       "      <td>0.995721</td>\n",
       "      <td>0.995315</td>\n",
       "      <td>1.008894</td>\n",
       "      <td>1.003542</td>\n",
       "      <td>0.993303</td>\n",
       "      <td>1.006384</td>\n",
       "      <td>0.998798</td>\n",
       "      <td>...</td>\n",
       "      <td>0.997065</td>\n",
       "      <td>1.005111</td>\n",
       "      <td>0.989238</td>\n",
       "      <td>1.000144</td>\n",
       "      <td>0.993430</td>\n",
       "      <td>0.998341</td>\n",
       "      <td>0.995633</td>\n",
       "      <td>0.996969</td>\n",
       "      <td>0.996503</td>\n",
       "      <td>0.990180</td>\n",
       "    </tr>\n",
       "    <tr>\n",
       "      <th>2</th>\n",
       "      <td>0.997832</td>\n",
       "      <td>0.993632</td>\n",
       "      <td>0.999291</td>\n",
       "      <td>0.993255</td>\n",
       "      <td>0.993150</td>\n",
       "      <td>1.010263</td>\n",
       "      <td>1.011542</td>\n",
       "      <td>0.988144</td>\n",
       "      <td>1.018143</td>\n",
       "      <td>0.995210</td>\n",
       "      <td>...</td>\n",
       "      <td>0.993911</td>\n",
       "      <td>1.000276</td>\n",
       "      <td>0.985548</td>\n",
       "      <td>1.000575</td>\n",
       "      <td>0.985537</td>\n",
       "      <td>1.000369</td>\n",
       "      <td>0.988900</td>\n",
       "      <td>0.995962</td>\n",
       "      <td>0.994337</td>\n",
       "      <td>0.986031</td>\n",
       "    </tr>\n",
       "    <tr>\n",
       "      <th>3</th>\n",
       "      <td>0.995638</td>\n",
       "      <td>0.996357</td>\n",
       "      <td>1.000795</td>\n",
       "      <td>0.992224</td>\n",
       "      <td>0.994169</td>\n",
       "      <td>1.001329</td>\n",
       "      <td>1.011362</td>\n",
       "      <td>0.996821</td>\n",
       "      <td>1.016578</td>\n",
       "      <td>0.999133</td>\n",
       "      <td>...</td>\n",
       "      <td>0.991685</td>\n",
       "      <td>0.997455</td>\n",
       "      <td>0.981034</td>\n",
       "      <td>1.000258</td>\n",
       "      <td>0.986249</td>\n",
       "      <td>1.013661</td>\n",
       "      <td>0.987129</td>\n",
       "      <td>0.988568</td>\n",
       "      <td>0.994337</td>\n",
       "      <td>0.992085</td>\n",
       "    </tr>\n",
       "    <tr>\n",
       "      <th>4</th>\n",
       "      <td>0.997932</td>\n",
       "      <td>0.994551</td>\n",
       "      <td>1.005953</td>\n",
       "      <td>0.997765</td>\n",
       "      <td>0.986078</td>\n",
       "      <td>1.003513</td>\n",
       "      <td>1.011200</td>\n",
       "      <td>0.999599</td>\n",
       "      <td>1.012803</td>\n",
       "      <td>0.999552</td>\n",
       "      <td>...</td>\n",
       "      <td>0.994218</td>\n",
       "      <td>1.001908</td>\n",
       "      <td>0.982359</td>\n",
       "      <td>1.003587</td>\n",
       "      <td>0.983471</td>\n",
       "      <td>1.008395</td>\n",
       "      <td>0.990194</td>\n",
       "      <td>0.993181</td>\n",
       "      <td>0.992568</td>\n",
       "      <td>1.004712</td>\n",
       "    </tr>\n",
       "  </tbody>\n",
       "</table>\n",
       "<p>5 rows × 500 columns</p>\n",
       "</div>"
      ],
      "text/plain": [
       "        0         1         2         3         4         5         6    \\\n",
       "0  1.000000  1.000000  1.000000  1.000000  1.000000  1.000000  1.000000   \n",
       "1  1.001293  0.988967  1.000726  0.995721  0.995315  1.008894  1.003542   \n",
       "2  0.997832  0.993632  0.999291  0.993255  0.993150  1.010263  1.011542   \n",
       "3  0.995638  0.996357  1.000795  0.992224  0.994169  1.001329  1.011362   \n",
       "4  0.997932  0.994551  1.005953  0.997765  0.986078  1.003513  1.011200   \n",
       "\n",
       "        7         8         9    ...       490       491       492       493  \\\n",
       "0  1.000000  1.000000  1.000000  ...  1.000000  1.000000  1.000000  1.000000   \n",
       "1  0.993303  1.006384  0.998798  ...  0.997065  1.005111  0.989238  1.000144   \n",
       "2  0.988144  1.018143  0.995210  ...  0.993911  1.000276  0.985548  1.000575   \n",
       "3  0.996821  1.016578  0.999133  ...  0.991685  0.997455  0.981034  1.000258   \n",
       "4  0.999599  1.012803  0.999552  ...  0.994218  1.001908  0.982359  1.003587   \n",
       "\n",
       "        494       495       496       497       498       499  \n",
       "0  1.000000  1.000000  1.000000  1.000000  1.000000  1.000000  \n",
       "1  0.993430  0.998341  0.995633  0.996969  0.996503  0.990180  \n",
       "2  0.985537  1.000369  0.988900  0.995962  0.994337  0.986031  \n",
       "3  0.986249  1.013661  0.987129  0.988568  0.994337  0.992085  \n",
       "4  0.983471  1.008395  0.990194  0.993181  0.992568  1.004712  \n",
       "\n",
       "[5 rows x 500 columns]"
      ]
     },
     "execution_count": 39,
     "metadata": {},
     "output_type": "execute_result"
    }
   ],
   "source": [
    "# Select the last row for the cumulative returns (cumulative returns at 20 years)\n",
    "# Set number of simulations and trading days\n",
    "num_simulations = 500\n",
    "num_trading_days = 252 * 20\n",
    "\n",
    "# Set last closing prices of `SPY` and `AGG`\n",
    "spy_last_price = port_planner_df['SPY']['close'][-1]\n",
    "agg_last_price = port_planner_df['AGG']['close'][-1]\n",
    "\n",
    "# Initialize empty DataFrame to hold simulated prices for each simulation\n",
    "simulated_price_df = pd.DataFrame()\n",
    "portfolio_cumulative_returns_20 = pd.DataFrame()\n",
    "\n",
    "# Run the simulation of projecting stock prices for the next trading year, `500` times\n",
    "for n in range(num_simulations):\n",
    "\n",
    "    # Initialize the simulated prices list with the last closing price of `SPY` and `AGG`\n",
    "    simulated_spy_prices = [spy_last_price]\n",
    "    simulated_agg_prices = [agg_last_price]\n",
    "    \n",
    "    # Simulate the returns for 252 * 20 days\n",
    "    for i in range(num_trading_days):\n",
    "        \n",
    "        # Calculate the simulated price using the last price within the list\n",
    "        simulated_spy_price = simulated_spy_prices[-1] * (1 + np.random.normal(avg_daily_return_spy, std_dev_daily_return_spy))\n",
    "        simulated_agg_price = simulated_agg_prices[-1] * (1 + np.random.normal(avg_daily_return_agg, std_dev_daily_return_agg))\n",
    "        \n",
    "        # Append the simulated price to the list\n",
    "        simulated_spy_prices.append(simulated_spy_price)\n",
    "        simulated_agg_prices.append(simulated_agg_price)\n",
    "    \n",
    "    # Append a simulated prices of each simulation to DataFrame\n",
    "    simulated_price_df[\"SPY prices\"] = pd.Series(simulated_spy_prices)\n",
    "    simulated_price_df[\"AGG prices\"] = pd.Series(simulated_agg_prices)\n",
    "    \n",
    "    # Calculate the daily returns of simulated prices\n",
    "    simulated_daily_returns = simulated_price_df.pct_change()\n",
    "    \n",
    "    # Set the portfolio weights (60% SPY; 40% AGG)\n",
    "    weights = [0.60, 0.40]\n",
    "\n",
    "    # Use the `dot` function with the weights to multiply weights with each column's simulated daily returns\n",
    "    portfolio_daily_returns = simulated_daily_returns.dot(weights)\n",
    "    \n",
    "    # Calculate the normalized, cumulative return series\n",
    "    portfolio_cumulative_returns_20[n] = (1 + portfolio_daily_returns.fillna(0)).cumprod()\n",
    "\n",
    "# Print records from the DataFrame\n",
    "portfolio_cumulative_returns_20.head()"
   ]
  },
  {
   "cell_type": "code",
   "execution_count": 40,
   "metadata": {},
   "outputs": [
    {
     "data": {
      "text/plain": [
       "<matplotlib.axes._subplots.AxesSubplot at 0x167be0050>"
      ]
     },
     "execution_count": 40,
     "metadata": {},
     "output_type": "execute_result"
    },
    {
     "data": {
      "image/png": "[encoded data removed]",
      "text/plain": [
       "<Figure size 432x288 with 1 Axes>"
      ]
     },
     "metadata": {
      "needs_background": "light"
     },
     "output_type": "display_data"
    }
   ],
   "source": [
    "# Visualize the distribution of the ending returns\n",
    "plot_title = f\"{n+1} Simulations of Cumulative Portfolio Return Trajectories Over the Next 252 * 20 Trading Days\"\n",
    "portfolio_cumulative_returns.plot(legend=None, title=plot_title)"
   ]
  },
  {
   "cell_type": "code",
   "execution_count": 41,
   "metadata": {},
   "outputs": [
    {
     "data": {
      "text/html": [
       "<div>\n",
       "<style scoped>\n",
       "    .dataframe tbody tr th:only-of-type {\n",
       "        vertical-align: middle;\n",
       "    }\n",
       "\n",
       "    .dataframe tbody tr th {\n",
       "        vertical-align: top;\n",
       "    }\n",
       "\n",
       "    .dataframe thead th {\n",
       "        text-align: right;\n",
       "    }\n",
       "</style>\n",
       "<table border=\"1\" class=\"dataframe\">\n",
       "  <thead>\n",
       "    <tr style=\"text-align: right;\">\n",
       "      <th></th>\n",
       "      <th>0</th>\n",
       "      <th>1</th>\n",
       "      <th>2</th>\n",
       "      <th>3</th>\n",
       "      <th>4</th>\n",
       "      <th>5</th>\n",
       "      <th>6</th>\n",
       "      <th>7</th>\n",
       "      <th>8</th>\n",
       "      <th>9</th>\n",
       "      <th>...</th>\n",
       "      <th>490</th>\n",
       "      <th>491</th>\n",
       "      <th>492</th>\n",
       "      <th>493</th>\n",
       "      <th>494</th>\n",
       "      <th>495</th>\n",
       "      <th>496</th>\n",
       "      <th>497</th>\n",
       "      <th>498</th>\n",
       "      <th>499</th>\n",
       "    </tr>\n",
       "  </thead>\n",
       "  <tbody>\n",
       "    <tr>\n",
       "      <th>0</th>\n",
       "      <td>1.000000</td>\n",
       "      <td>1.000000</td>\n",
       "      <td>1.000000</td>\n",
       "      <td>1.000000</td>\n",
       "      <td>1.000000</td>\n",
       "      <td>1.000000</td>\n",
       "      <td>1.000000</td>\n",
       "      <td>1.000000</td>\n",
       "      <td>1.000000</td>\n",
       "      <td>1.000000</td>\n",
       "      <td>...</td>\n",
       "      <td>1.000000</td>\n",
       "      <td>1.000000</td>\n",
       "      <td>1.000000</td>\n",
       "      <td>1.000000</td>\n",
       "      <td>1.000000</td>\n",
       "      <td>1.000000</td>\n",
       "      <td>1.000000</td>\n",
       "      <td>1.000000</td>\n",
       "      <td>1.000000</td>\n",
       "      <td>1.000000</td>\n",
       "    </tr>\n",
       "    <tr>\n",
       "      <th>1</th>\n",
       "      <td>1.008131</td>\n",
       "      <td>0.993395</td>\n",
       "      <td>1.002441</td>\n",
       "      <td>1.005514</td>\n",
       "      <td>0.995119</td>\n",
       "      <td>0.993683</td>\n",
       "      <td>0.992824</td>\n",
       "      <td>1.002609</td>\n",
       "      <td>1.008903</td>\n",
       "      <td>0.996492</td>\n",
       "      <td>...</td>\n",
       "      <td>0.997346</td>\n",
       "      <td>1.000456</td>\n",
       "      <td>0.996021</td>\n",
       "      <td>1.001026</td>\n",
       "      <td>1.000857</td>\n",
       "      <td>0.994675</td>\n",
       "      <td>0.994554</td>\n",
       "      <td>0.999500</td>\n",
       "      <td>1.007537</td>\n",
       "      <td>0.994173</td>\n",
       "    </tr>\n",
       "    <tr>\n",
       "      <th>2</th>\n",
       "      <td>1.009481</td>\n",
       "      <td>0.996117</td>\n",
       "      <td>1.004212</td>\n",
       "      <td>1.000977</td>\n",
       "      <td>0.999212</td>\n",
       "      <td>0.991294</td>\n",
       "      <td>0.999374</td>\n",
       "      <td>1.007658</td>\n",
       "      <td>1.007801</td>\n",
       "      <td>1.006201</td>\n",
       "      <td>...</td>\n",
       "      <td>0.997127</td>\n",
       "      <td>1.004128</td>\n",
       "      <td>0.997644</td>\n",
       "      <td>0.996856</td>\n",
       "      <td>0.998562</td>\n",
       "      <td>0.995428</td>\n",
       "      <td>0.987833</td>\n",
       "      <td>0.996299</td>\n",
       "      <td>1.006008</td>\n",
       "      <td>0.995199</td>\n",
       "    </tr>\n",
       "    <tr>\n",
       "      <th>3</th>\n",
       "      <td>1.016204</td>\n",
       "      <td>0.988136</td>\n",
       "      <td>1.007387</td>\n",
       "      <td>0.997264</td>\n",
       "      <td>0.994055</td>\n",
       "      <td>0.989184</td>\n",
       "      <td>0.997361</td>\n",
       "      <td>1.011502</td>\n",
       "      <td>1.009908</td>\n",
       "      <td>1.007134</td>\n",
       "      <td>...</td>\n",
       "      <td>0.989047</td>\n",
       "      <td>1.000921</td>\n",
       "      <td>0.991308</td>\n",
       "      <td>0.993015</td>\n",
       "      <td>0.992943</td>\n",
       "      <td>0.990951</td>\n",
       "      <td>0.991462</td>\n",
       "      <td>1.000244</td>\n",
       "      <td>1.008491</td>\n",
       "      <td>0.993392</td>\n",
       "    </tr>\n",
       "    <tr>\n",
       "      <th>4</th>\n",
       "      <td>1.028025</td>\n",
       "      <td>0.991899</td>\n",
       "      <td>1.003933</td>\n",
       "      <td>1.010400</td>\n",
       "      <td>0.990265</td>\n",
       "      <td>0.987789</td>\n",
       "      <td>0.992914</td>\n",
       "      <td>1.006914</td>\n",
       "      <td>1.017931</td>\n",
       "      <td>1.006293</td>\n",
       "      <td>...</td>\n",
       "      <td>0.988209</td>\n",
       "      <td>0.996943</td>\n",
       "      <td>0.998550</td>\n",
       "      <td>0.995029</td>\n",
       "      <td>0.991082</td>\n",
       "      <td>0.992307</td>\n",
       "      <td>0.986508</td>\n",
       "      <td>1.008537</td>\n",
       "      <td>1.007400</td>\n",
       "      <td>0.994647</td>\n",
       "    </tr>\n",
       "  </tbody>\n",
       "</table>\n",
       "<p>5 rows × 500 columns</p>\n",
       "</div>"
      ],
      "text/plain": [
       "        0         1         2         3         4         5         6    \\\n",
       "0  1.000000  1.000000  1.000000  1.000000  1.000000  1.000000  1.000000   \n",
       "1  1.008131  0.993395  1.002441  1.005514  0.995119  0.993683  0.992824   \n",
       "2  1.009481  0.996117  1.004212  1.000977  0.999212  0.991294  0.999374   \n",
       "3  1.016204  0.988136  1.007387  0.997264  0.994055  0.989184  0.997361   \n",
       "4  1.028025  0.991899  1.003933  1.010400  0.990265  0.987789  0.992914   \n",
       "\n",
       "        7         8         9    ...       490       491       492       493  \\\n",
       "0  1.000000  1.000000  1.000000  ...  1.000000  1.000000  1.000000  1.000000   \n",
       "1  1.002609  1.008903  0.996492  ...  0.997346  1.000456  0.996021  1.001026   \n",
       "2  1.007658  1.007801  1.006201  ...  0.997127  1.004128  0.997644  0.996856   \n",
       "3  1.011502  1.009908  1.007134  ...  0.989047  1.000921  0.991308  0.993015   \n",
       "4  1.006914  1.017931  1.006293  ...  0.988209  0.996943  0.998550  0.995029   \n",
       "\n",
       "        494       495       496       497       498       499  \n",
       "0  1.000000  1.000000  1.000000  1.000000  1.000000  1.000000  \n",
       "1  1.000857  0.994675  0.994554  0.999500  1.007537  0.994173  \n",
       "2  0.998562  0.995428  0.987833  0.996299  1.006008  0.995199  \n",
       "3  0.992943  0.990951  0.991462  1.000244  1.008491  0.993392  \n",
       "4  0.991082  0.992307  0.986508  1.008537  1.007400  0.994647  \n",
       "\n",
       "[5 rows x 500 columns]"
      ]
     },
     "execution_count": 41,
     "metadata": {},
     "output_type": "execute_result"
    }
   ],
   "source": [
    "# Select the last row for the cumulative returns (cumulative returns at 20 years)\n",
    "# Set number of simulations and trading days\n",
    "num_simulations = 500\n",
    "num_trading_days = 252\n",
    "\n",
    "# Set last closing prices of `SPY` and `AGG`\n",
    "spy_last_price = port_planner_df['SPY']['close'][-1]\n",
    "agg_last_price = port_planner_df['AGG']['close'][-1]\n",
    "\n",
    "# Initialize empty DataFrame to hold simulated prices for each simulation\n",
    "simulated_price_df = pd.DataFrame()\n",
    "portfolio_cumulative_returns_5 = pd.DataFrame()\n",
    "\n",
    "# Run the simulation of projecting stock prices for the next trading year, `500` times\n",
    "for n in range(num_simulations):\n",
    "\n",
    "    # Initialize the simulated prices list with the last closing price of `SPY` and `AGG`\n",
    "    simulated_spy_prices = [spy_last_price]\n",
    "    simulated_agg_prices = [agg_last_price]\n",
    "    \n",
    "    # Simulate the returns for 252\n",
    "    for i in range(num_trading_days):\n",
    "        \n",
    "        # Calculate the simulated price using the last price within the list\n",
    "        simulated_spy_price = simulated_spy_prices[-1] * (1 + np.random.normal(avg_daily_return_spy, std_dev_daily_return_spy))\n",
    "        simulated_agg_price = simulated_agg_prices[-1] * (1 + np.random.normal(avg_daily_return_agg, std_dev_daily_return_agg))\n",
    "        \n",
    "        # Append the simulated price to the list\n",
    "        simulated_spy_prices.append(simulated_spy_price)\n",
    "        simulated_agg_prices.append(simulated_agg_price)\n",
    "    \n",
    "    # Append a simulated prices of each simulation to DataFrame\n",
    "    simulated_price_df[\"SPY prices\"] = pd.Series(simulated_spy_prices)\n",
    "    simulated_price_df[\"AGG prices\"] = pd.Series(simulated_agg_prices)\n",
    "    \n",
    "    # Calculate the daily returns of simulated prices\n",
    "    simulated_daily_returns = simulated_price_df.pct_change()\n",
    "    \n",
    "    # Set the portfolio weights (60% SPY; 40% AGG)\n",
    "    weights = [0.60, 0.40]\n",
    "\n",
    "    # Use the `dot` function with the weights to multiply weights with each column's simulated daily returns\n",
    "    portfolio_daily_returns = simulated_daily_returns.dot(weights)\n",
    "    \n",
    "    # Calculate the normalized, cumulative return series\n",
    "    portfolio_cumulative_returns_5[n] = (1 + portfolio_daily_returns.fillna(0)).cumprod()\n",
    "\n",
    "# Print records from the DataFrame\n",
    "portfolio_cumulative_returns_5.head()"
   ]
  },
  {
   "cell_type": "code",
   "execution_count": 42,
   "metadata": {},
   "outputs": [
    {
     "data": {
      "text/plain": [
       "<matplotlib.axes._subplots.AxesSubplot at 0x1613ff450>"
      ]
     },
     "execution_count": 42,
     "metadata": {},
     "output_type": "execute_result"
    },
    {
     "data": {
      "image/png": "[encoded data removed]",
      "text/plain": [
       "<Figure size 432x288 with 1 Axes>"
      ]
     },
     "metadata": {
      "needs_background": "light"
     },
     "output_type": "display_data"
    }
   ],
   "source": [
    "# Visualize the distribution of the ending returns 1 years\n",
    "plot_title = f\"{n+1} Simulations of Cumulative Portfolio Return Trajectories Over the Next 1 Years\"\n",
    "portfolio_cumulative_returns.plot(legend=None, title=plot_title)"
   ]
  },
  {
   "cell_type": "markdown",
   "metadata": {},
   "source": [
    "---"
   ]
  },
  {
   "cell_type": "markdown",
   "metadata": {},
   "source": [
    "# Retirement Analysis\n",
    "\n",
    "In this section, you will use the monte carlo model to answer the following retirement planning questions:\n",
    "\n",
    "1. What are the expected cumulative returns at 30 years for the 10th, 50th, and 90th percentiles?\n",
    "2. Given an initial investment of `$20,000`, what is the expected portfolio return in dollars at the 10th, 50th, and 90th percentiles?\n",
    "3. Given the current projected annual income from the Plaid analysis, will a 4% withdraw rate from the retirement portfolio meet or exceed that value at the 10th percentile?\n",
    "4. How would a 50% increase in the initial investment amount affect the 4% retirement withdrawal?"
   ]
  },
  {
   "cell_type": "markdown",
   "metadata": {},
   "source": [
    "### What are the expected cumulative returns at 30 years for the 10th, 50th, and 90th percentiles?"
   ]
  },
  {
   "cell_type": "code",
   "execution_count": 43,
   "metadata": {},
   "outputs": [
    {
     "data": {
      "text/plain": [
       "0.9    11.191552\n",
       "0.1     3.853231\n",
       "Name: 7560, dtype: float64"
      ]
     },
     "execution_count": 43,
     "metadata": {},
     "output_type": "execute_result"
    }
   ],
   "source": [
    "#Confidence interval 10th percentile \n",
    "confidence_interval_10 = ending_cumulative_returns.quantile(q=[0.90, 0.10])\n",
    "confidence_interval_10"
   ]
  },
  {
   "cell_type": "code",
   "execution_count": 44,
   "metadata": {},
   "outputs": [
    {
     "data": {
      "text/plain": [
       "0.5    6.493621\n",
       "0.5    6.493621\n",
       "Name: 7560, dtype: float64"
      ]
     },
     "execution_count": 44,
     "metadata": {},
     "output_type": "execute_result"
    }
   ],
   "source": [
    "#Confidence interval 50th percentile \n",
    "confidence_interval_50 = ending_cumulative_returns.quantile(q=[0.50, 0.50])\n",
    "confidence_interval_50"
   ]
  },
  {
   "cell_type": "code",
   "execution_count": 45,
   "metadata": {},
   "outputs": [
    {
     "data": {
      "text/plain": [
       "0.1     3.853231\n",
       "0.9    11.191552\n",
       "Name: 7560, dtype: float64"
      ]
     },
     "execution_count": 45,
     "metadata": {},
     "output_type": "execute_result"
    }
   ],
   "source": [
    "#Confidence interval 90th percentile \n",
    "confidence_interval_90 = ending_cumulative_returns.quantile(q=[0.10, 0.90])\n",
    "confidence_interval_90"
   ]
  },
  {
   "cell_type": "markdown",
   "metadata": {},
   "source": [
    "### Given an initial investment of `$20,000`, what is the expected portfolio return in dollars at the 10th, 50th, and 90th percentiles?"
   ]
  },
  {
   "cell_type": "code",
   "execution_count": 46,
   "metadata": {},
   "outputs": [
    {
     "name": "stdout",
     "output_type": "stream",
     "text": [
      "There is a 10% chance that an initial investment of $20,000 in the portfolio over the next 252 * 30 trading days will end within in the range of $223831.03264246308 and $77064.62952534045\n"
     ]
    }
   ],
   "source": [
    "# Set Initial Investment of $20,000\n",
    "initial_investment = 20000\n",
    "# Confidence Interval 10th Percentile\n",
    "investment_pnl_lower_bound = initial_investment * confidence_interval_10.iloc[0]\n",
    "investment_pnl_upper_bound = initial_investment * confidence_interval_10.iloc[1]\n",
    "print(f\"There is a 10% chance that an initial investment of $20,000 in the portfolio\"\n",
    "      f\" over the next 252 * 30 trading days will end within in the range of\"\n",
    "      f\" ${investment_pnl_lower_bound} and ${investment_pnl_upper_bound}\")"
   ]
  },
  {
   "cell_type": "code",
   "execution_count": 47,
   "metadata": {},
   "outputs": [
    {
     "name": "stdout",
     "output_type": "stream",
     "text": [
      "There is a 50% chance that an initial investment of $20,000 in the portfolio over the next 252 * 30 trading days will end within in the range of $129872.42959474532 and $129872.42959474532\n"
     ]
    }
   ],
   "source": [
    "# Confidence Interval 50th Percentile\n",
    "investment_pnl_lower_bound = initial_investment * confidence_interval_50.iloc[0]\n",
    "investment_pnl_upper_bound = initial_investment * confidence_interval_50.iloc[1]\n",
    "print(f\"There is a 50% chance that an initial investment of $20,000 in the portfolio\"\n",
    "      f\" over the next 252 * 30 trading days will end within in the range of\"\n",
    "      f\" ${investment_pnl_lower_bound} and ${investment_pnl_upper_bound}\")"
   ]
  },
  {
   "cell_type": "code",
   "execution_count": 48,
   "metadata": {},
   "outputs": [
    {
     "name": "stdout",
     "output_type": "stream",
     "text": [
      "There is a 90% chance that an initial investment of $20,000 in the portfolio over the next 252 * 30 trading days will end within in the range of $77064.62952534045 and $223831.03264246308\n"
     ]
    }
   ],
   "source": [
    "# Confidence Interval 90th Percentile\n",
    "investment_pnl_lower_bound = initial_investment * confidence_interval_90.iloc[0]\n",
    "investment_pnl_upper_bound = initial_investment * confidence_interval_90.iloc[1]\n",
    "print(f\"There is a 90% chance that an initial investment of $20,000 in the portfolio\"\n",
    "      f\" over the next 252 * 30 trading days will end within in the range of\"\n",
    "      f\" ${investment_pnl_lower_bound} and ${investment_pnl_upper_bound}\")"
   ]
  },
  {
   "cell_type": "markdown",
   "metadata": {},
   "source": [
    "### Given the current projected annual income from the Plaid analysis, will a 4% withdraw rate from the retirement portfolio meet or exceed that value at the 10th percentile?\n",
    "\n",
    "Note: This is effectively saying that 90% of the expected returns will be greater than the return at the 10th percentile, so this can help measure the uncertainty about having enough funds at retirement"
   ]
  },
  {
   "cell_type": "code",
   "execution_count": null,
   "metadata": {},
   "outputs": [],
   "source": [
    "# YOUR CODE HERE"
   ]
  },
  {
   "cell_type": "markdown",
   "metadata": {},
   "source": [
    "### How would a 50% increase in the initial investment amount affect the 4% retirement withdrawal?"
   ]
  },
  {
   "cell_type": "code",
   "execution_count": null,
   "metadata": {},
   "outputs": [],
   "source": [
    "# YOUR CODE HERE"
   ]
  },
  {
   "cell_type": "markdown",
   "metadata": {},
   "source": [
    "### Optional Challenge\n",
    "\n",
    "In this section, you will calculate and plot the cumulative returns for the median and 90% confidence intervals. This plot shows the expected cumulative returns for any given day between the first day and the last day of investment. "
   ]
  },
  {
   "cell_type": "code",
   "execution_count": null,
   "metadata": {},
   "outputs": [],
   "source": [
    "# YOUR CODE HERE"
   ]
  }
 ],
 "metadata": {
  "kernel_info": {
   "name": "dev"
  },
  "kernelspec": {
   "display_name": "Python 3",
   "language": "python",
   "name": "python3"
  },
  "language_info": {
   "codemirror_mode": {
    "name": "ipython",
    "version": 3
   },
   "file_extension": ".py",
   "mimetype": "text/x-python",
   "name": "python",
   "nbconvert_exporter": "python",
   "pygments_lexer": "ipython3",
   "version": "3.7.4"
  },
  "nteract": {
   "version": "0.12.3"
  }
 },
 "nbformat": 4,
 "nbformat_minor": 4
}
